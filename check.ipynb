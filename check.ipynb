{
 "cells": [
  {
   "cell_type": "code",
   "execution_count": 2,
   "metadata": {},
   "outputs": [
    {
     "name": "stdout",
     "output_type": "stream",
     "text": [
      "0.785\n"
     ]
    },
    {
     "data": {
      "text/plain": [
       "0.9992039901050427"
      ]
     },
     "execution_count": 2,
     "metadata": {},
     "output_type": "execute_result"
    }
   ],
   "source": [
    "import math\n",
    "p = 3.14\n",
    "a = 45\n",
    "a = (p*a)/180\n",
    "print(a)\n",
    "math.tan(a)"
   ]
  },
  {
   "cell_type": "code",
   "execution_count": 3,
   "metadata": {},
   "outputs": [
    {
     "name": "stdout",
     "output_type": "stream",
     "text": [
      "78.03445008206825\n"
     ]
    }
   ],
   "source": [
    "import math\n",
    "π = 3.14\n",
    "a = float(input(\">>> Value 'a'=\"))\n",
    "b = float(input(\">>> Value 'b'=\"))\n",
    "c = float(input(\">>> Value 'c'=\"))\n",
    "A = float(input(\">>> Value 'A'=\"))\n",
    "p = (a+b+c)/2\n",
    "A = (π*A)/180\n",
    "S = π*((p-a)*math.tan(A/2))**2\n",
    "print(S)"
   ]
  },
  {
   "cell_type": "code",
   "execution_count": 5,
   "metadata": {},
   "outputs": [
    {
     "name": "stdout",
     "output_type": "stream",
     "text": [
      "Answer: 2\n"
     ]
    }
   ],
   "source": [
    "S = 2\n",
    "print(\"Answer:\",S)"
   ]
  },
  {
   "cell_type": "code",
   "execution_count": 7,
   "metadata": {},
   "outputs": [
    {
     "name": "stdout",
     "output_type": "stream",
     "text": [
      "Answer: S =  251.74390746166102\n"
     ]
    }
   ],
   "source": [
    "import math\n",
    "π = 3.14\n",
    "a = float(input(\">>> Value 'a'= \"))\n",
    "b = float(input(\">>> Value 'b'= \"))\n",
    "c = float(input(\">>> Value 'c'= \"))\n",
    "A = float(input(\">>> Value 'A'= \"))\n",
    "p = (a+b+c)/2\n",
    "A = (π*A)/180\n",
    "S = π*((p-a)*math.tan(A/2))**2\n",
    "print(\"Answer: S = \",S)"
   ]
  }
 ],
 "metadata": {
  "kernelspec": {
   "display_name": ".venv",
   "language": "python",
   "name": "python3"
  },
  "language_info": {
   "codemirror_mode": {
    "name": "ipython",
    "version": 3
   },
   "file_extension": ".py",
   "mimetype": "text/x-python",
   "name": "python",
   "nbconvert_exporter": "python",
   "pygments_lexer": "ipython3",
   "version": "3.10.12"
  }
 },
 "nbformat": 4,
 "nbformat_minor": 2
}
